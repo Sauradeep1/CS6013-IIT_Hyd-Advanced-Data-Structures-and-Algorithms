{
 "cells": [
  {
   "cell_type": "code",
   "execution_count": 1,
   "id": "8bf03efb",
   "metadata": {},
   "outputs": [],
   "source": [
    "import numpy as np\n",
    "import pandas as pd\n",
    "import random"
   ]
  },
  {
   "cell_type": "markdown",
   "id": "0ab67778",
   "metadata": {},
   "source": [
    "### Helper functions"
   ]
  },
  {
   "cell_type": "code",
   "execution_count": 2,
   "id": "1c639458",
   "metadata": {},
   "outputs": [],
   "source": [
    "def higher_power(base, exponent):\n",
    "    \"\"\"\n",
    "    computes a^b in O(logn) time.\n",
    "    Input Parameter(s):\n",
    "    -----------------------------\n",
    "    base, exponent- int ; for base^(exponent) e.g. 2^5 =32\n",
    "    Returns\n",
    "    -----------------------------\n",
    "    power_output- int\n",
    "    \"\"\"\n",
    "    power_output = 1 # output initialized at 1\n",
    "    while (exponent):# Keep iterating till exponent becomes 0 \n",
    "        if ((exponent & 1) == 1) :# if exponent is odd\n",
    "            power_output =power_output * base # then multiply \"power_output\" with base number\n",
    "        exponent = exponent >> 1 # right shift bitwise operator i.e. equivalent to divide by 2\n",
    "        base = base * base # base number is multiplied by itself\n",
    "    return power_output"
   ]
  },
  {
   "cell_type": "raw",
   "id": "1ba57709",
   "metadata": {},
   "source": [
    "# Testing the above function \n",
    "print('testing higher_power()')\n",
    "a ,b =2, 5\n",
    "print(higher_power(a, b))\n",
    "a ,b =3, 4\n",
    "print(higher_power(a, b))"
   ]
  },
  {
   "cell_type": "code",
   "execution_count": 3,
   "id": "7c766d8f",
   "metadata": {},
   "outputs": [],
   "source": [
    "def modulo_higher_power(base, exponent, n):\n",
    "    \"\"\"\n",
    "    computes a^b modulo n in O(logn) time following the property - (m*n) modulo x = ((m modulo x)*(n modulo x))modulo x\n",
    "    Input Parameter(s):\n",
    "    -----------------------------\n",
    "    base, exponent- int ; for base^(exponent) e.g. 2^5 =32\n",
    "    Returns\n",
    "    -----------------------------\n",
    "    power_output- int\n",
    "    \"\"\"\n",
    "    power_output = 1 # output initialized at 1\n",
    "    while (exponent):# Keep iterating till exponent becomes 0 \n",
    "        if ((exponent & 1) == 1) :# if exponent is odd\n",
    "            power_output =(power_output * base)% n # then multiply \"power_output\" with base number\n",
    "        exponent = exponent >> 1 # right shift bitwise operator i.e. equivalent to divide by 2\n",
    "        base = (base * base)%n # base number is multiplied by itself\n",
    "    return power_output"
   ]
  },
  {
   "cell_type": "raw",
   "id": "9f8e7f1d",
   "metadata": {},
   "source": [
    "# Testing the above function \n",
    "a ,b =2, 5\n",
    "print('testing modulo_higher_power()')\n",
    "print(modulo_higher_power(a, b, 30))\n",
    "a ,b =3, 4\n",
    "print(modulo_higher_power(a, b,80))"
   ]
  },
  {
   "cell_type": "code",
   "execution_count": 4,
   "id": "a5d7fc3b",
   "metadata": {},
   "outputs": [],
   "source": [
    "def two_factorize(input_num):\n",
    "    \"\"\" factorizes a given number input_num = 2^(power_of_2) *z where z is an odd number and\n",
    "    Returns power_of_2 ->  the exponent of 2\n",
    "    Input Parameters\n",
    "    ----------------\n",
    "    input_num - int\n",
    "    Returns \n",
    "    -------------------\n",
    "    power_of_2 -int\n",
    "    \"\"\"\n",
    "    odd_factor =  input_num ;# initialize \n",
    "    power_of_2 = 0\n",
    "    while (odd_factor % 2 == 0):# i.e divisible by 2\n",
    "        odd_factor = int(np.floor(odd_factor/2))\n",
    "        power_of_2 = power_of_2+1# if divisible by 2, increase the power_of_2 by 1 \n",
    "        #print(d, power_of_2)\n",
    "    # at the end of the loop , odd_factor has the biggest odd (composite or prime) factor of input_num\n",
    "    return power_of_2"
   ]
  },
  {
   "cell_type": "raw",
   "id": "014847a1",
   "metadata": {},
   "source": [
    "print('testing two_factorize()')\n",
    "print(two_factorize(32))#testing the function\n",
    "print(two_factorize(54))\n",
    "print(two_factorize(80))\n",
    "print(two_factorize(100))"
   ]
  },
  {
   "cell_type": "markdown",
   "id": "b7ec3a5a",
   "metadata": {},
   "source": [
    "### Miller Rabin test core 2 functions "
   ]
  },
  {
   "cell_type": "code",
   "execution_count": 5,
   "id": "44c53550",
   "metadata": {},
   "outputs": [],
   "source": [
    "def Miller_Rabin_Test(odd_factor, input_num):\n",
    "    \"\"\"\n",
    "    For a single iteration, checks if divisible by a random value in the range (2, input_num - 4)\n",
    "    Returns False, if not Prime.\n",
    "    input Parameters :\n",
    "    -----------------\n",
    "    odd_factor : int\n",
    "    an old number such that input_num-1 = 2^x * odd_factor\n",
    "    Returns: Boolean\n",
    "    ------------------------\n",
    "    True - if prime, False if not Prime\n",
    "    \"\"\"\n",
    "    random_val = 2 + random.randint(1, input_num - 4);#any random number between 2 to input_num-2 \n",
    "    modulo_power = modulo_higher_power(random_val, odd_factor, input_num);# calculate random_val^(odd_factor)% input_num\n",
    "    if ( modulo_power == input_num - 1 or modulo_power == 1 ):# we finished checking all values\n",
    "        return True # it is likely to be prime\n",
    "\n",
    "    while (odd_factor != input_num - 1):# keep squaring modulo_power & doubling odd_factor till odd_factor is input_num - 1\n",
    "        modulo_power = (modulo_power * modulo_power) % input_num;\n",
    "        odd_factor = odd_factor * 2\n",
    "        \n",
    "        if (modulo_power == input_num - 1):\n",
    "            return True\n",
    "\n",
    "        if (modulo_power == 1): \n",
    "            return False\n",
    "        \n",
    "\n",
    "    return False # the input number is a composite"
   ]
  },
  {
   "cell_type": "code",
   "execution_count": 6,
   "id": "96133764",
   "metadata": {},
   "outputs": [],
   "source": [
    "def get_Miller_Rabin_results_all_iterations( input_num , r):\n",
    "        \"\"\"\n",
    "        Repeats the Primality Testing r times by calling Miller_Rabin_Test r times\n",
    "        Input Parameters:\n",
    "        --------------------------\n",
    "        input_num : int\n",
    "        r : no of rounds/ iterations we will check for primality with different random numbers\n",
    "        -----------------------------------------\n",
    "        Returns: Boolean\n",
    "        True - if prime, False if not Prime\n",
    "        \"\"\"\n",
    "        #BASE CASES 1& 2 --- n =1, 2, 3, or 4\n",
    "        if (input_num <= 3):# because 2 & 3 are  prime\n",
    "            return True;\n",
    "        if (input_num <= 1 or input_num == 4):# because 1 & 4 are not prime\n",
    "            return False;\n",
    "        \n",
    "\n",
    "        odd_factor = input_num - 1;# initialized \n",
    "        # next, we factorize odd_factor = 2^(power_of_2) *z where z is an odd number and assign odd_factor =z\n",
    "        while (odd_factor % 2 == 0):## at the end of the while loop , odd_factor has the biggest odd  factor of input_num\n",
    "            odd_factor = int(np.floor(odd_factor/2)) # divide by 2, apply floor(), convert to integer data type\n",
    "\n",
    "        for i in range(r):# check r times; the higher the value of r, better the confidence that input_num is prime\n",
    "            if (Miller_Rabin_Test(odd_factor, input_num) == False):# each iteration\n",
    "                return False #not prime if any iteration returns False\n",
    "\n",
    "        return True"
   ]
  },
  {
   "cell_type": "markdown",
   "id": "5a72f533",
   "metadata": {},
   "source": [
    "### the below cell takes the inputs from the user & calls get_Miller_Rabin_results_all_iterations()"
   ]
  },
  {
   "cell_type": "code",
   "execution_count": 7,
   "id": "ef74b5c4",
   "metadata": {},
   "outputs": [
    {
     "name": "stdout",
     "output_type": "stream",
     "text": [
      "Enter the number you want to test for Primality i.e. n and then hit the Enter key\n",
      "91\n",
      "Enter the no. of iterations , r \n",
      "77\n",
      "91  is a composite number\n"
     ]
    }
   ],
   "source": [
    "if  __name__ == \"__main__\":\n",
    "    print('Enter the number you want to test for Primality i.e. n and then hit the Enter key')\n",
    "    input_num=input()\n",
    "    print('Enter the no. of iterations , r ')\n",
    "    r = input();# No of repeated check\n",
    "    if (get_Miller_Rabin_results_all_iterations(int(input_num), int(r))):\n",
    "      print(input_num ,\" is a prime number\")\n",
    "    else : \n",
    "      print(input_num ,\" is a composite number\")"
   ]
  },
  {
   "cell_type": "code",
   "execution_count": null,
   "id": "9d6a9700",
   "metadata": {},
   "outputs": [],
   "source": []
  }
 ],
 "metadata": {
  "kernelspec": {
   "display_name": "Python 3",
   "language": "python",
   "name": "python3"
  },
  "language_info": {
   "codemirror_mode": {
    "name": "ipython",
    "version": 3
   },
   "file_extension": ".py",
   "mimetype": "text/x-python",
   "name": "python",
   "nbconvert_exporter": "python",
   "pygments_lexer": "ipython3",
   "version": "3.8.8"
  }
 },
 "nbformat": 4,
 "nbformat_minor": 5
}
